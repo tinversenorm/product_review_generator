{
 "cells": [
  {
   "cell_type": "markdown",
   "metadata": {
    "colab_type": "text",
    "id": "bVRjdxWr1KSh"
   },
   "source": [
    "# N-Gram Model\n",
    "\n",
    "The N-Gram  model uses the previous n-1 words in a sentence to predict the next word.\n",
    "\n",
    "## Get Data"
   ]
  },
  {
   "cell_type": "code",
   "execution_count": 3,
   "metadata": {
    "colab": {
     "base_uri": "https://localhost:8080/",
     "height": 85
    },
    "colab_type": "code",
    "executionInfo": {
     "elapsed": 397,
     "status": "ok",
     "timestamp": 1544808966267,
     "user": {
      "displayName": "Pramuka Perera",
      "photoUrl": "https://lh5.googleusercontent.com/-cshEJZsuY7g/AAAAAAAAAAI/AAAAAAAAILk/g2S1pYLV8bs/s64/photo.jpg",
      "userId": "16661652317147738214"
     },
     "user_tz": 360
    },
    "id": "ZWFas1KvW_NJ",
    "outputId": "de659a50-a270-4888-aa79-5b7677627569"
   },
   "outputs": [
    {
     "name": "stdout",
     "output_type": "stream",
     "text": [
      "[nltk_data] Downloading package averaged_perceptron_tagger to\n",
      "[nltk_data]     /home/pramuka/nltk_data...\n",
      "[nltk_data]   Package averaged_perceptron_tagger is already up-to-\n",
      "[nltk_data]       date!\n"
     ]
    },
    {
     "ename": "FileNotFoundError",
     "evalue": "[Errno 2] No such file or directory: 'WinePreprocessed2.txt'",
     "output_type": "error",
     "traceback": [
      "\u001b[0;31m---------------------------------------------------------------------------\u001b[0m",
      "\u001b[0;31mFileNotFoundError\u001b[0m                         Traceback (most recent call last)",
      "\u001b[0;32m<ipython-input-3-6d3ee8c2067d>\u001b[0m in \u001b[0;36m<module>\u001b[0;34m()\u001b[0m\n\u001b[1;32m      6\u001b[0m \u001b[0;31m# Grab text and store as words in an array\u001b[0m\u001b[0;34m\u001b[0m\u001b[0;34m\u001b[0m\u001b[0m\n\u001b[1;32m      7\u001b[0m \u001b[0mcorpus_root\u001b[0m \u001b[0;34m=\u001b[0m \u001b[0;34m'./'\u001b[0m\u001b[0;34m\u001b[0m\u001b[0m\n\u001b[0;32m----> 8\u001b[0;31m \u001b[0mf\u001b[0m \u001b[0;34m=\u001b[0m \u001b[0mopen\u001b[0m\u001b[0;34m(\u001b[0m\u001b[0;34m\"WinePreprocessed2.txt\"\u001b[0m\u001b[0;34m,\u001b[0m \u001b[0;34m\"r\"\u001b[0m\u001b[0;34m,\u001b[0m \u001b[0mencoding\u001b[0m\u001b[0;34m=\u001b[0m\u001b[0;34m\"utf8\"\u001b[0m\u001b[0;34m)\u001b[0m\u001b[0;34m\u001b[0m\u001b[0m\n\u001b[0m\u001b[1;32m      9\u001b[0m \u001b[0;34m\u001b[0m\u001b[0m\n\u001b[1;32m     10\u001b[0m \u001b[0mcorpus\u001b[0m \u001b[0;34m=\u001b[0m \u001b[0mf\u001b[0m\u001b[0;34m.\u001b[0m\u001b[0mread\u001b[0m\u001b[0;34m(\u001b[0m\u001b[0;34m)\u001b[0m\u001b[0;34m\u001b[0m\u001b[0m\n",
      "\u001b[0;31mFileNotFoundError\u001b[0m: [Errno 2] No such file or directory: 'WinePreprocessed2.txt'"
     ]
    }
   ],
   "source": [
    "import nltk\n",
    "from nltk.collocations import *\n",
    "from numpy.random import random_sample\n",
    "nltk.download('averaged_perceptron_tagger')\n",
    "\n",
    "# Grab text and store as words in an array\n",
    "corpus_root = './'\n",
    "f = open(\"WinePreprocessed2.txt\", \"r\", encoding=\"utf8\")\n",
    "\n",
    "corpus = f.read()\n",
    "corpus = corpus[0:20000]\n",
    "corpus = corpus.split(\" \")"
   ]
  },
  {
   "cell_type": "markdown",
   "metadata": {
    "colab_type": "text",
    "id": "3tFTCg9e1oPk"
   },
   "source": [
    "## Build Bigram Model"
   ]
  },
  {
   "cell_type": "code",
   "execution_count": 4,
   "metadata": {
    "colab": {},
    "colab_type": "code",
    "id": "mATgJVIszr7J"
   },
   "outputs": [
    {
     "ename": "NameError",
     "evalue": "name 'corpus' is not defined",
     "output_type": "error",
     "traceback": [
      "\u001b[0;31m---------------------------------------------------------------------------\u001b[0m",
      "\u001b[0;31mNameError\u001b[0m                                 Traceback (most recent call last)",
      "\u001b[0;32m<ipython-input-4-43ed56d65a43>\u001b[0m in \u001b[0;36m<module>\u001b[0;34m()\u001b[0m\n\u001b[1;32m      1\u001b[0m \u001b[0;31m# Generate bigrams and store into a dictionary\u001b[0m\u001b[0;34m\u001b[0m\u001b[0;34m\u001b[0m\u001b[0m\n\u001b[0;32m----> 2\u001b[0;31m \u001b[0mbifinder\u001b[0m \u001b[0;34m=\u001b[0m \u001b[0mBigramCollocationFinder\u001b[0m\u001b[0;34m.\u001b[0m\u001b[0mfrom_words\u001b[0m\u001b[0;34m(\u001b[0m\u001b[0mcorpus\u001b[0m\u001b[0;34m)\u001b[0m\u001b[0;34m\u001b[0m\u001b[0m\n\u001b[0m\u001b[1;32m      3\u001b[0m \u001b[0mbigram_items\u001b[0m \u001b[0;34m=\u001b[0m \u001b[0mbifinder\u001b[0m\u001b[0;34m.\u001b[0m\u001b[0mngram_fd\u001b[0m\u001b[0;34m.\u001b[0m\u001b[0mitems\u001b[0m\u001b[0;34m(\u001b[0m\u001b[0;34m)\u001b[0m\u001b[0;34m\u001b[0m\u001b[0m\n\u001b[1;32m      4\u001b[0m \u001b[0mbigram_keys\u001b[0m \u001b[0;34m=\u001b[0m \u001b[0mbifinder\u001b[0m\u001b[0;34m.\u001b[0m\u001b[0mngram_fd\u001b[0m\u001b[0;34m.\u001b[0m\u001b[0mkeys\u001b[0m\u001b[0;34m(\u001b[0m\u001b[0;34m)\u001b[0m\u001b[0;34m\u001b[0m\u001b[0m\n\u001b[1;32m      5\u001b[0m \u001b[0;34m\u001b[0m\u001b[0m\n",
      "\u001b[0;31mNameError\u001b[0m: name 'corpus' is not defined"
     ]
    }
   ],
   "source": [
    "# Generate bigrams and store into a dictionary\n",
    "bifinder = BigramCollocationFinder.from_words(corpus)\n",
    "bigram_items = bifinder.ngram_fd.items()\n",
    "bigram_keys = bifinder.ngram_fd.keys()\n",
    "\n",
    "#Build model dictionary, key is previous word, val is next word\n",
    "bigram = {'sample': ['sample']}\n",
    "\n",
    "for key in bigram_keys:\n",
    "  #if len(key[0]) < 2 or len(key[1]) < 2:\n",
    "  #  continue\n",
    "  \n",
    "  if key[0] in bigram:\n",
    "    bigram[key[0]].append(key[1])\n",
    "    continue\n",
    "  \n",
    "  bigram[key[0]] = [key[1]]\n"
   ]
  },
  {
   "cell_type": "markdown",
   "metadata": {
    "colab_type": "text",
    "id": "eay5y3-61rtp"
   },
   "source": [
    "## Collect the beginnings of reviews"
   ]
  },
  {
   "cell_type": "code",
   "execution_count": null,
   "metadata": {
    "colab": {
     "base_uri": "https://localhost:8080/",
     "height": 54
    },
    "colab_type": "code",
    "executionInfo": {
     "elapsed": 240,
     "status": "ok",
     "timestamp": 1544808969973,
     "user": {
      "displayName": "Pramuka Perera",
      "photoUrl": "https://lh5.googleusercontent.com/-cshEJZsuY7g/AAAAAAAAAAI/AAAAAAAAILk/g2S1pYLV8bs/s64/photo.jpg",
      "userId": "16661652317147738214"
     },
     "user_tz": 360
    },
    "id": "VKP9QrhttIn4",
    "outputId": "4a049816-c2ab-4586-a682-0516b23cd950"
   },
   "outputs": [],
   "source": [
    "# Collect all the beginnings of reviews\n",
    "seeds_bi = [(\"This\")]\n",
    "\n",
    "for key in bigram.keys():\n",
    "  # <eor> marks the end of a review\n",
    "  if (key == \"<eor>\"):\n",
    "    for i in range(len(bigram[key])):\n",
    "      if bigram[key][i] not in seeds_bi:\n",
    "        seeds_bi.append(bigram[key][i])\n",
    "        \n",
    "print(seeds_bi)\n",
    "        "
   ]
  },
  {
   "cell_type": "markdown",
   "metadata": {
    "colab_type": "text",
    "id": "XA-okJU-13p7"
   },
   "source": [
    "## Generate reviews"
   ]
  },
  {
   "cell_type": "code",
   "execution_count": null,
   "metadata": {
    "colab": {
     "base_uri": "https://localhost:8080/",
     "height": 207
    },
    "colab_type": "code",
    "executionInfo": {
     "elapsed": 227,
     "status": "ok",
     "timestamp": 1544808971618,
     "user": {
      "displayName": "Pramuka Perera",
      "photoUrl": "https://lh5.googleusercontent.com/-cshEJZsuY7g/AAAAAAAAAAI/AAAAAAAAILk/g2S1pYLV8bs/s64/photo.jpg",
      "userId": "16661652317147738214"
     },
     "user_tz": 360
    },
    "id": "Z1tGipYR4RoI",
    "outputId": "9a19bb18-a7a8-4412-e774-18557f501718"
   },
   "outputs": [],
   "source": [
    "# Generate 10 reviews\n",
    "for j in range(10):\n",
    "  word = seeds_bi[int(len(seeds_bi) * random_sample())]\n",
    "  \n",
    "  print(word, end = \" \")\n",
    "  \n",
    "  for i in range(35):\n",
    "    if word in bigram:\n",
    "      word = bigram[word][int(len(bigram[word]) * random_sample())]\n",
    "  \n",
    "      if(word == \"<eor>\"):\n",
    "        break\n",
    "      \n",
    "      print(word, end = \" \")\n",
    "    else:\n",
    "      break\n",
    "  print(\"\")"
   ]
  },
  {
   "cell_type": "markdown",
   "metadata": {
    "colab_type": "text",
    "id": "KPjzxgos18uK"
   },
   "source": [
    "## Build Trigram Model"
   ]
  },
  {
   "cell_type": "code",
   "execution_count": null,
   "metadata": {
    "colab": {},
    "colab_type": "code",
    "id": "rANbl0SlUN4s"
   },
   "outputs": [],
   "source": [
    "#Generate trigrams\n",
    "trifinder = TrigramCollocationFinder.from_words(corpus)\n",
    "trigram_items = trifinder.ngram_fd.items()\n",
    "trigram_keys = trifinder.ngram_fd.keys()\n",
    "\n",
    "#Build model dictionary, key is previous two words, val is next word\n",
    "trigram = {('sample', 'sample'): ['sample']}\n",
    "\n",
    "for key in trigram_keys:\n",
    "  #if len(key[0]) < 2 or len(key[1]) < 2 or len(key[2]) < 2:\n",
    "  #  continue\n",
    "  \n",
    "  if (key[0],key[1]) in trigram:\n",
    "    trigram[(key[0],key[1])].append(key[2])\n",
    "    continue\n",
    "  \n",
    "  trigram[(key[0],key[1])] = [key[2]]\n"
   ]
  },
  {
   "cell_type": "markdown",
   "metadata": {
    "colab_type": "text",
    "id": "WA0rNFdn1_-U"
   },
   "source": [
    "## Collect beginnings of reviews"
   ]
  },
  {
   "cell_type": "code",
   "execution_count": null,
   "metadata": {
    "colab": {},
    "colab_type": "code",
    "id": "-JiWYvDSeiQh"
   },
   "outputs": [],
   "source": [
    "# Collect all the beginnings of sentences\n",
    "seeds = [(\"This\", \"blend\")]\n",
    "\n",
    "for key in trigram.keys():\n",
    "  # <eor> marks the end of a review\n",
    "  if (key[0] == \"<eor>\"):\n",
    "    for i in range(len(trigram[key])):\n",
    "      if (key[1], trigram[key][i]) not in seeds:\n",
    "        seeds.append((key[1], trigram[key][i]))\n",
    "        "
   ]
  },
  {
   "cell_type": "markdown",
   "metadata": {
    "colab_type": "text",
    "id": "Alh9wD5v2Fi7"
   },
   "source": [
    "## Generate reviews"
   ]
  },
  {
   "cell_type": "code",
   "execution_count": null,
   "metadata": {
    "colab": {
     "base_uri": "https://localhost:8080/",
     "height": 207
    },
    "colab_type": "code",
    "executionInfo": {
     "elapsed": 240,
     "status": "ok",
     "timestamp": 1544808977862,
     "user": {
      "displayName": "Pramuka Perera",
      "photoUrl": "https://lh5.googleusercontent.com/-cshEJZsuY7g/AAAAAAAAAAI/AAAAAAAAILk/g2S1pYLV8bs/s64/photo.jpg",
      "userId": "16661652317147738214"
     },
     "user_tz": 360
    },
    "id": "Av_xQloLKWJ4",
    "outputId": "13525cc6-a524-47bb-fc3e-0a17f650c87a"
   },
   "outputs": [],
   "source": [
    "# Generate 10 reviews\n",
    "out = \"sample\"\n",
    "for j in range(10):\n",
    "  word = seeds[int(len(seeds) * random_sample())]\n",
    "  \n",
    "  print(word[0] + \" \" + word[1], end = \" \")\n",
    "  \n",
    "  for i in range(35):\n",
    "    if word in trigram:\n",
    "      out = trigram[word][int(len(trigram[word]) * random_sample())]\n",
    "  \n",
    "      if(out == \"<eor>\"):\n",
    "        break\n",
    "      \n",
    "      print(out, end = \" \")\n",
    "      word = (word[1], out)\n",
    "    else:\n",
    "      break\n",
    "  print(\"\")"
   ]
  }
 ],
 "metadata": {
  "colab": {
   "collapsed_sections": [],
   "name": "ngram.ipynb",
   "provenance": [],
   "version": "0.3.2"
  },
  "kernelspec": {
   "display_name": "Python 3",
   "language": "python",
   "name": "python3"
  },
  "language_info": {
   "codemirror_mode": {
    "name": "ipython",
    "version": 3
   },
   "file_extension": ".py",
   "mimetype": "text/x-python",
   "name": "python",
   "nbconvert_exporter": "python",
   "pygments_lexer": "ipython3",
   "version": "3.6.5"
  }
 },
 "nbformat": 4,
 "nbformat_minor": 1
}
